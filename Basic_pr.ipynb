{
 "cells": [
  {
   "cell_type": "markdown",
   "metadata": {},
   "source": [
    "# 실습 1"
   ]
  },
  {
   "cell_type": "code",
   "execution_count": 2,
   "metadata": {},
   "outputs": [
    {
     "name": "stdout",
     "output_type": "stream",
     "text": [
      "점수 :85\n"
     ]
    }
   ],
   "source": [
    "score = int(input('점수 :'))"
   ]
  },
  {
   "cell_type": "code",
   "execution_count": 4,
   "metadata": {},
   "outputs": [
    {
     "name": "stdout",
     "output_type": "stream",
     "text": [
      "학점은 B 입니다.\n"
     ]
    }
   ],
   "source": [
    "if score >= 90:\n",
    "    grade = \"A\"\n",
    "elif score >= 80:\n",
    "    grade = \"B\"\n",
    "elif score >= 70:\n",
    "    grade = \"C\"\n",
    "elif score >= 60:\n",
    "    grade = \"D\"\n",
    "else :\n",
    "    grade = \"F\"\n",
    "\n",
    "print('학점은 %s 입니다.' %grade)"
   ]
  },
  {
   "cell_type": "markdown",
   "metadata": {},
   "source": [
    "### 문자열"
   ]
  },
  {
   "cell_type": "code",
   "execution_count": 10,
   "metadata": {},
   "outputs": [
    {
     "name": "stdout",
     "output_type": "stream",
     "text": [
      "안녕하세요.\n",
      "안녕 하세요 .\n",
      "안녕 반가워\n"
     ]
    }
   ],
   "source": [
    "a = '안녕'\n",
    "b = '하세요'\n",
    "c = '.'\n",
    "\n",
    "print(a+b+c)\n",
    "print(a,b,c)\n",
    "print(a,'반가워')"
   ]
  },
  {
   "cell_type": "markdown",
   "metadata": {},
   "source": [
    "### 리스트"
   ]
  },
  {
   "cell_type": "code",
   "execution_count": 20,
   "metadata": {},
   "outputs": [
    {
     "name": "stdout",
     "output_type": "stream",
     "text": [
      "아무거나 입력.오늘은\n",
      "아무거나 입력.미세먼지가\n",
      "아무거나 입력.많다.\n",
      "0 번째 : 오늘은\n",
      "1 번째 : 미세먼지가\n",
      "2 번째 : 많다.\n"
     ]
    },
    {
     "data": {
      "text/plain": [
       "['오늘은', '미세먼지가', '많다.']"
      ]
     },
     "execution_count": 20,
     "metadata": {},
     "output_type": "execute_result"
    }
   ],
   "source": [
    "a = []\n",
    "for i in range(3):\n",
    "    a.append(input('아무거나 입력.'))\n",
    "\n",
    "for i in range(len(a)):\n",
    "    print('%d 번째 :' %i, a[i])"
   ]
  },
  {
   "cell_type": "markdown",
   "metadata": {},
   "source": [
    "### 딕셔너리"
   ]
  },
  {
   "cell_type": "code",
   "execution_count": 26,
   "metadata": {},
   "outputs": [
    {
     "name": "stdout",
     "output_type": "stream",
     "text": [
      "{'버거': 4900, '감자튀김': '1900', '음료': '1500'}\n",
      "\n",
      "버거는 얼마인가요?\n",
      "4900 원 입니다.\n"
     ]
    }
   ],
   "source": [
    "map = {'버거' : 4900, '감자튀김' : '1900', '음료' : '1500'}\n",
    "\n",
    "print(map)\n",
    "print(\"\")\n",
    "print('버거는 얼마인가요?') \n",
    "print(map['버거'], '원 입니다.')"
   ]
  },
  {
   "cell_type": "code",
   "execution_count": 39,
   "metadata": {},
   "outputs": [
    {
     "name": "stdout",
     "output_type": "stream",
     "text": [
      "keys : dict_keys(['버거', '감자튀김', '음료'])\n",
      "values : dict_values([4900, '1900', '1500'])\n",
      "음료의 value : 1500\n",
      "커피의 value : None\n"
     ]
    }
   ],
   "source": [
    "print('keys :',map.keys())\n",
    "print('values :',map.values())\n",
    "print('음료의 value :', map.get('음료'))\n",
    "print('커피의 value :', map.get('커피'))"
   ]
  },
  {
   "cell_type": "markdown",
   "metadata": {},
   "source": [
    "### 튜플"
   ]
  },
  {
   "cell_type": "code",
   "execution_count": 44,
   "metadata": {},
   "outputs": [
    {
     "name": "stdout",
     "output_type": "stream",
     "text": [
      "(1, 2, 3) 5 ('day', 8.7)\n"
     ]
    }
   ],
   "source": [
    "a1 = (1, 2, 3)\n",
    "a2 = (5)\n",
    "a3 = ('day', 8.7)\n",
    "\n",
    "print(a1, a2 ,a3)"
   ]
  },
  {
   "cell_type": "markdown",
   "metadata": {},
   "source": [
    "### Set"
   ]
  },
  {
   "cell_type": "code",
   "execution_count": 48,
   "metadata": {},
   "outputs": [
    {
     "name": "stdout",
     "output_type": "stream",
     "text": [
      "{1, 2, 3} {3} {3, 4, 5}\n"
     ]
    }
   ],
   "source": [
    "s1 = {1,2,3}\n",
    "s2 = {3,3,3}\n",
    "s3 = {3,4,5}\n",
    "print(s1,s2,s3)"
   ]
  },
  {
   "cell_type": "code",
   "execution_count": 54,
   "metadata": {
    "scrolled": true
   },
   "outputs": [
    {
     "name": "stdout",
     "output_type": "stream",
     "text": [
      "{1, 2, 3}\n",
      "{3}\n",
      "{1, 2, 3, 4, 5}\n"
     ]
    }
   ],
   "source": [
    "print(s1.union(s2))\n",
    "print(s1.intersection(s2))\n",
    "print(s3.union(s1))"
   ]
  },
  {
   "cell_type": "markdown",
   "metadata": {},
   "source": [
    "### 클래스와 생성자"
   ]
  },
  {
   "cell_type": "code",
   "execution_count": 70,
   "metadata": {},
   "outputs": [],
   "source": [
    "class Car:\n",
    "    def __init__(self, color, types = 'KIA', speed = 0): # 생성자\n",
    "        self.color = color # 초기화\n",
    "        self.speed = speed # 초기화\n",
    "        self.types = types # 초기화\n",
    "        \n",
    "    def speedUp(self):\n",
    "        self.speed += 10\n",
    "    \n",
    "    def speedDown(self):\n",
    "        if self.speed <= 10:\n",
    "            self.speed = 0\n",
    "        else : self.speed -= 10\n",
    "    \n",
    "    def __eq__(self, y) :\n",
    "        return self.color == y.color\n",
    "    \n",
    "    def __str__(self):\n",
    "        return 'color is %s, type is %s, speed is %d' %(self.color, self.types, self.speed)\n",
    "    "
   ]
  },
  {
   "cell_type": "code",
   "execution_count": 74,
   "metadata": {},
   "outputs": [
    {
     "name": "stdout",
     "output_type": "stream",
     "text": [
      "color is black, type is Hyundai, speed is 10\n",
      "color is white, type is KIA, speed is 130\n"
     ]
    }
   ],
   "source": [
    "car1 = Car('black', 'Hyundai')\n",
    "car2 = Car('white', speed = 140)\n",
    "\n",
    "car1.speedUp()\n",
    "car2.speedDown()\n",
    "\n",
    "print(car1)\n",
    "print(car2)"
   ]
  },
  {
   "cell_type": "markdown",
   "metadata": {},
   "source": [
    "### 상속"
   ]
  },
  {
   "cell_type": "code",
   "execution_count": 104,
   "metadata": {},
   "outputs": [],
   "source": [
    "class SuperCar(Car): \n",
    "    def __init__(self, color, types = 'Benz', speed = 0, bTurbo = True):\n",
    "        super().__init__(color, types, speed) # 부모 클래스의 생성자 호출\n",
    "        self.bTurbo = bTurbo #초기화\n",
    "        \n",
    "    def setTurbo(self, bTurbo):\n",
    "        self.bTurbo = bTurbo\n",
    "        \n",
    "    def speedUp(self):\n",
    "        if self.bTurbo :\n",
    "            self.speed += 50\n",
    "        else : \n",
    "            self.speed += 10\n",
    "            \n",
    "    def __str__(self):\n",
    "        if self.bTurbo :\n",
    "            return '[%s] [%s] [speed = %d] Turbo Mode' % (self.types, self.color, self.speed)\n",
    "        else :\n",
    "            return '[%s] [%s] [speed = %d] Drive Mode' % (self.types, self.color, self.speed)\n"
   ]
  },
  {
   "cell_type": "code",
   "execution_count": 118,
   "metadata": {},
   "outputs": [
    {
     "name": "stdout",
     "output_type": "stream",
     "text": [
      "[Benz] [red] [speed = 50] Turbo Mode\n",
      "[Jeep] [blue] [speed = 60] Turbo Mode\n"
     ]
    }
   ],
   "source": [
    "car3 = SuperCar('red')\n",
    "car3.speedUp()\n",
    "print(car3)\n",
    "\n",
    "car4 = SuperCar('blue', 'Jeep' ,bTurbo = False)\n",
    "car4.speedUp()\n",
    "\n",
    "car4.setTurbo(True)\n",
    "car4.speedUp()\n",
    "\n",
    "print(car4)"
   ]
  }
 ],
 "metadata": {
  "kernelspec": {
   "display_name": "Python 3",
   "language": "python",
   "name": "python3"
  },
  "language_info": {
   "codemirror_mode": {
    "name": "ipython",
    "version": 3
   },
   "file_extension": ".py",
   "mimetype": "text/x-python",
   "name": "python",
   "nbconvert_exporter": "python",
   "pygments_lexer": "ipython3",
   "version": "3.8.3"
  }
 },
 "nbformat": 4,
 "nbformat_minor": 4
}
